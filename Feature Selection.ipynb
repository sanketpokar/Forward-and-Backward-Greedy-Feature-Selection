{
 "cells": [
  {
   "cell_type": "code",
   "execution_count": 2,
   "metadata": {},
   "outputs": [],
   "source": [
    "import pandas as pd\n",
    "import numpy as np\n",
    "import matplotlib.pyplot as plt"
   ]
  },
  {
   "cell_type": "code",
   "execution_count": 3,
   "metadata": {},
   "outputs": [],
   "source": [
    "dataset = pd.read_csv(\"data.csv\")"
   ]
  },
  {
   "cell_type": "code",
   "execution_count": 4,
   "metadata": {},
   "outputs": [],
   "source": [
    "#Standardization\n",
    "for j in range(13):\n",
    "    mean = np.mean(dataset.iloc[:, j])\n",
    "    stdev = np.std(dataset.iloc[:, j])\n",
    "    for i in range(1188):\n",
    "        dataset.iloc[i, j] = (dataset.iloc[i,j]-mean)/(stdev)"
   ]
  },
  {
   "cell_type": "code",
   "execution_count": 5,
   "metadata": {},
   "outputs": [
    {
     "data": {
      "text/html": [
       "<div>\n",
       "<style scoped>\n",
       "    .dataframe tbody tr th:only-of-type {\n",
       "        vertical-align: middle;\n",
       "    }\n",
       "\n",
       "    .dataframe tbody tr th {\n",
       "        vertical-align: top;\n",
       "    }\n",
       "\n",
       "    .dataframe thead th {\n",
       "        text-align: right;\n",
       "    }\n",
       "</style>\n",
       "<table border=\"1\" class=\"dataframe\">\n",
       "  <thead>\n",
       "    <tr style=\"text-align: right;\">\n",
       "      <th></th>\n",
       "      <th>bedrooms</th>\n",
       "      <th>bathrooms</th>\n",
       "      <th>sqft_living</th>\n",
       "      <th>sqft_lot</th>\n",
       "      <th>floors</th>\n",
       "      <th>waterfront</th>\n",
       "      <th>view</th>\n",
       "      <th>condition</th>\n",
       "      <th>grade</th>\n",
       "      <th>sqft_above</th>\n",
       "      <th>sqft_basement</th>\n",
       "      <th>sqft_living15</th>\n",
       "      <th>sqft_lot15</th>\n",
       "      <th>price</th>\n",
       "    </tr>\n",
       "  </thead>\n",
       "  <tbody>\n",
       "    <tr>\n",
       "      <th>0</th>\n",
       "      <td>0.663691</td>\n",
       "      <td>-0.504401</td>\n",
       "      <td>-0.004835</td>\n",
       "      <td>-0.135730</td>\n",
       "      <td>-0.947503</td>\n",
       "      <td>-0.058124</td>\n",
       "      <td>-0.320151</td>\n",
       "      <td>0.872351</td>\n",
       "      <td>-0.585471</td>\n",
       "      <td>-0.879876</td>\n",
       "      <td>1.653671</td>\n",
       "      <td>-0.698942</td>\n",
       "      <td>-0.203325</td>\n",
       "      <td>453000.0</td>\n",
       "    </tr>\n",
       "    <tr>\n",
       "      <th>1</th>\n",
       "      <td>0.663691</td>\n",
       "      <td>0.457957</td>\n",
       "      <td>0.057463</td>\n",
       "      <td>-0.096182</td>\n",
       "      <td>0.911122</td>\n",
       "      <td>-0.058124</td>\n",
       "      <td>2.284912</td>\n",
       "      <td>-0.647228</td>\n",
       "      <td>0.265863</td>\n",
       "      <td>0.423736</td>\n",
       "      <td>-0.666115</td>\n",
       "      <td>0.540524</td>\n",
       "      <td>-0.116306</td>\n",
       "      <td>480000.0</td>\n",
       "    </tr>\n",
       "    <tr>\n",
       "      <th>2</th>\n",
       "      <td>-0.411978</td>\n",
       "      <td>-0.825187</td>\n",
       "      <td>-0.607049</td>\n",
       "      <td>-0.097170</td>\n",
       "      <td>-0.947503</td>\n",
       "      <td>-0.058124</td>\n",
       "      <td>-0.320151</td>\n",
       "      <td>-0.647228</td>\n",
       "      <td>-0.585471</td>\n",
       "      <td>-0.938073</td>\n",
       "      <td>0.493778</td>\n",
       "      <td>-0.611450</td>\n",
       "      <td>-0.172472</td>\n",
       "      <td>180500.0</td>\n",
       "    </tr>\n",
       "    <tr>\n",
       "      <th>3</th>\n",
       "      <td>-0.411978</td>\n",
       "      <td>1.741101</td>\n",
       "      <td>0.265123</td>\n",
       "      <td>-0.154685</td>\n",
       "      <td>0.911122</td>\n",
       "      <td>-0.058124</td>\n",
       "      <td>3.587443</td>\n",
       "      <td>-0.647228</td>\n",
       "      <td>0.265863</td>\n",
       "      <td>-0.169873</td>\n",
       "      <td>0.887704</td>\n",
       "      <td>0.759253</td>\n",
       "      <td>-0.330079</td>\n",
       "      <td>495000.0</td>\n",
       "    </tr>\n",
       "    <tr>\n",
       "      <th>4</th>\n",
       "      <td>0.663691</td>\n",
       "      <td>0.457957</td>\n",
       "      <td>0.109378</td>\n",
       "      <td>-0.118232</td>\n",
       "      <td>0.911122</td>\n",
       "      <td>-0.058124</td>\n",
       "      <td>-0.320151</td>\n",
       "      <td>-0.647228</td>\n",
       "      <td>0.265863</td>\n",
       "      <td>0.481933</td>\n",
       "      <td>-0.666115</td>\n",
       "      <td>0.365541</td>\n",
       "      <td>-0.153143</td>\n",
       "      <td>325000.0</td>\n",
       "    </tr>\n",
       "    <tr>\n",
       "      <th>...</th>\n",
       "      <td>...</td>\n",
       "      <td>...</td>\n",
       "      <td>...</td>\n",
       "      <td>...</td>\n",
       "      <td>...</td>\n",
       "      <td>...</td>\n",
       "      <td>...</td>\n",
       "      <td>...</td>\n",
       "      <td>...</td>\n",
       "      <td>...</td>\n",
       "      <td>...</td>\n",
       "      <td>...</td>\n",
       "      <td>...</td>\n",
       "      <td>...</td>\n",
       "    </tr>\n",
       "    <tr>\n",
       "      <th>1183</th>\n",
       "      <td>0.663691</td>\n",
       "      <td>0.457957</td>\n",
       "      <td>0.517430</td>\n",
       "      <td>-0.139553</td>\n",
       "      <td>0.911122</td>\n",
       "      <td>-0.058124</td>\n",
       "      <td>-0.320151</td>\n",
       "      <td>-0.647228</td>\n",
       "      <td>0.265863</td>\n",
       "      <td>0.939361</td>\n",
       "      <td>-0.666115</td>\n",
       "      <td>-0.013590</td>\n",
       "      <td>-0.295547</td>\n",
       "      <td>333000.0</td>\n",
       "    </tr>\n",
       "    <tr>\n",
       "      <th>1184</th>\n",
       "      <td>-1.487647</td>\n",
       "      <td>-0.183615</td>\n",
       "      <td>-0.409772</td>\n",
       "      <td>-0.187121</td>\n",
       "      <td>0.911122</td>\n",
       "      <td>-0.058124</td>\n",
       "      <td>-0.320151</td>\n",
       "      <td>-0.647228</td>\n",
       "      <td>-0.585471</td>\n",
       "      <td>-0.100036</td>\n",
       "      <td>-0.666115</td>\n",
       "      <td>-0.932253</td>\n",
       "      <td>-0.330451</td>\n",
       "      <td>450000.0</td>\n",
       "    </tr>\n",
       "    <tr>\n",
       "      <th>1185</th>\n",
       "      <td>0.663691</td>\n",
       "      <td>0.457957</td>\n",
       "      <td>0.950401</td>\n",
       "      <td>-0.151850</td>\n",
       "      <td>0.911122</td>\n",
       "      <td>-0.058124</td>\n",
       "      <td>-0.320151</td>\n",
       "      <td>-0.647228</td>\n",
       "      <td>0.265863</td>\n",
       "      <td>1.424724</td>\n",
       "      <td>-0.666115</td>\n",
       "      <td>1.488351</td>\n",
       "      <td>-0.189200</td>\n",
       "      <td>776000.0</td>\n",
       "    </tr>\n",
       "    <tr>\n",
       "      <th>1186</th>\n",
       "      <td>0.663691</td>\n",
       "      <td>-0.825187</td>\n",
       "      <td>0.026314</td>\n",
       "      <td>-0.077307</td>\n",
       "      <td>-0.947503</td>\n",
       "      <td>-0.058124</td>\n",
       "      <td>-0.320151</td>\n",
       "      <td>0.872351</td>\n",
       "      <td>-0.585471</td>\n",
       "      <td>0.388818</td>\n",
       "      <td>-0.666115</td>\n",
       "      <td>-0.378139</td>\n",
       "      <td>-0.096903</td>\n",
       "      <td>400000.0</td>\n",
       "    </tr>\n",
       "    <tr>\n",
       "      <th>1187</th>\n",
       "      <td>-0.411978</td>\n",
       "      <td>-1.466759</td>\n",
       "      <td>-0.960071</td>\n",
       "      <td>-0.106988</td>\n",
       "      <td>-0.947503</td>\n",
       "      <td>-0.058124</td>\n",
       "      <td>-0.320151</td>\n",
       "      <td>0.872351</td>\n",
       "      <td>-0.585471</td>\n",
       "      <td>-0.716924</td>\n",
       "      <td>-0.666115</td>\n",
       "      <td>-1.005163</td>\n",
       "      <td>-0.157604</td>\n",
       "      <td>369500.0</td>\n",
       "    </tr>\n",
       "  </tbody>\n",
       "</table>\n",
       "<p>1188 rows × 14 columns</p>\n",
       "</div>"
      ],
      "text/plain": [
       "      bedrooms  bathrooms  sqft_living  sqft_lot    floors  waterfront  \\\n",
       "0     0.663691  -0.504401    -0.004835 -0.135730 -0.947503   -0.058124   \n",
       "1     0.663691   0.457957     0.057463 -0.096182  0.911122   -0.058124   \n",
       "2    -0.411978  -0.825187    -0.607049 -0.097170 -0.947503   -0.058124   \n",
       "3    -0.411978   1.741101     0.265123 -0.154685  0.911122   -0.058124   \n",
       "4     0.663691   0.457957     0.109378 -0.118232  0.911122   -0.058124   \n",
       "...        ...        ...          ...       ...       ...         ...   \n",
       "1183  0.663691   0.457957     0.517430 -0.139553  0.911122   -0.058124   \n",
       "1184 -1.487647  -0.183615    -0.409772 -0.187121  0.911122   -0.058124   \n",
       "1185  0.663691   0.457957     0.950401 -0.151850  0.911122   -0.058124   \n",
       "1186  0.663691  -0.825187     0.026314 -0.077307 -0.947503   -0.058124   \n",
       "1187 -0.411978  -1.466759    -0.960071 -0.106988 -0.947503   -0.058124   \n",
       "\n",
       "          view  condition     grade  sqft_above  sqft_basement  sqft_living15  \\\n",
       "0    -0.320151   0.872351 -0.585471   -0.879876       1.653671      -0.698942   \n",
       "1     2.284912  -0.647228  0.265863    0.423736      -0.666115       0.540524   \n",
       "2    -0.320151  -0.647228 -0.585471   -0.938073       0.493778      -0.611450   \n",
       "3     3.587443  -0.647228  0.265863   -0.169873       0.887704       0.759253   \n",
       "4    -0.320151  -0.647228  0.265863    0.481933      -0.666115       0.365541   \n",
       "...        ...        ...       ...         ...            ...            ...   \n",
       "1183 -0.320151  -0.647228  0.265863    0.939361      -0.666115      -0.013590   \n",
       "1184 -0.320151  -0.647228 -0.585471   -0.100036      -0.666115      -0.932253   \n",
       "1185 -0.320151  -0.647228  0.265863    1.424724      -0.666115       1.488351   \n",
       "1186 -0.320151   0.872351 -0.585471    0.388818      -0.666115      -0.378139   \n",
       "1187 -0.320151   0.872351 -0.585471   -0.716924      -0.666115      -1.005163   \n",
       "\n",
       "      sqft_lot15     price  \n",
       "0      -0.203325  453000.0  \n",
       "1      -0.116306  480000.0  \n",
       "2      -0.172472  180500.0  \n",
       "3      -0.330079  495000.0  \n",
       "4      -0.153143  325000.0  \n",
       "...          ...       ...  \n",
       "1183   -0.295547  333000.0  \n",
       "1184   -0.330451  450000.0  \n",
       "1185   -0.189200  776000.0  \n",
       "1186   -0.096903  400000.0  \n",
       "1187   -0.157604  369500.0  \n",
       "\n",
       "[1188 rows x 14 columns]"
      ]
     },
     "execution_count": 5,
     "metadata": {},
     "output_type": "execute_result"
    }
   ],
   "source": [
    "dataset = dataset.fillna(0)\n",
    "dataset"
   ]
  },
  {
   "cell_type": "code",
   "execution_count": 6,
   "metadata": {},
   "outputs": [],
   "source": [
    "training_data = dataset[:951]   ##80 percent training\n",
    "testing_data = dataset[951:]    ##20 percent testing\n",
    "\n",
    "#testing_data"
   ]
  },
  {
   "cell_type": "code",
   "execution_count": 7,
   "metadata": {},
   "outputs": [],
   "source": [
    "#converting to matrix\n",
    "\n",
    "y= np.array(training_data.iloc[: , 13])\n",
    "y = y.reshape(-1, 1)\n",
    "y = np.matrix(y)\n",
    "\n",
    "\n",
    "ytest = np.array(testing_data.iloc[:, 13])\n",
    "ytest = ytest.reshape(-1, 1)\n",
    "ytest = np.matrix(ytest)"
   ]
  },
  {
   "cell_type": "code",
   "execution_count": 8,
   "metadata": {},
   "outputs": [],
   "source": [
    "def findrmserror(training_data, independent, dependent):\n",
    "    matindependent = np.zeros(951)\n",
    "    matindependent = np.matrix(matindependent)\n",
    "    matindependent = matindependent.T\n",
    "    for variable in independent:\n",
    "        x = np.array(training_data.iloc[: , variable])\n",
    "        x = x.reshape(-1, 1)\n",
    "        x = np.matrix(x)\n",
    "        matindependent = np.c_[matindependent, x]\n",
    "    \n",
    "    matindependent = matindependent[:, 1:]\n",
    "    matindependent = np.c_[matindependent, np.ones(951)]\n",
    "    a = np.linalg.inv(np.dot(matindependent.T, matindependent))\n",
    "    b = np.dot(matindependent.T, dependent)\n",
    "    betahat = np.dot(a,b)\n",
    "    ncols = matindependent.shape[1]\n",
    "    for j in range(ncols):\n",
    "        matindependent[:, j] = matindependent[:, j]*betahat[j]\n",
    "    \n",
    "    \n",
    "    y_predicted = np.ndarray.sum(matindependent, axis=1)\n",
    "    rmserror = 0\n",
    "    y_predicted = y_predicted.T\n",
    "    for i in range(951):\n",
    "        rmserror = rmserror + (y_predicted[i].item()-dependent[i].item())*(y_predicted[i].item()-dependent[i].item())\n",
    "        \n",
    "        \n",
    "    return (rmserror/951)**0.5"
   ]
  },
  {
   "cell_type": "code",
   "execution_count": 9,
   "metadata": {},
   "outputs": [],
   "source": [
    "def findrmstesting(testing_data, independent, dependent):\n",
    "    matindependent = np.zeros(237)\n",
    "    matindependent = np.matrix(matindependent)\n",
    "    matindependent = matindependent.T\n",
    "    for variable in independent:\n",
    "        x = np.array(testing_data.iloc[: , variable])\n",
    "        x = x.reshape(-1, 1)\n",
    "        x = np.matrix(x)\n",
    "        matindependent = np.c_[matindependent, x]\n",
    "    \n",
    "    matindependent = matindependent[:, 1:]\n",
    "    matindependent = np.c_[matindependent, np.ones(237)]\n",
    "    a = np.linalg.inv(np.dot(matindependent.T, matindependent))\n",
    "    b = np.dot(matindependent.T, dependent)\n",
    "    betahat = np.dot(a,b)\n",
    "    ncols = matindependent.shape[1]\n",
    "    for j in range(ncols):\n",
    "        matindependent[:, j] = matindependent[:, j]*betahat[j]\n",
    "    \n",
    "    \n",
    "    y_predicted = np.ndarray.sum(matindependent, axis=1)\n",
    "    rmserror = 0\n",
    "    y_predicted = y_predicted.T\n",
    "    \n",
    "    for i in range(237):\n",
    "        rmserror = rmserror + (y_predicted[i].item()-dependent[i].item())*(y_predicted[i].item()-dependent[i].item())\n",
    "        \n",
    "        \n",
    "    return (rmserror/237)**0.5"
   ]
  },
  {
   "cell_type": "code",
   "execution_count": 20,
   "metadata": {},
   "outputs": [],
   "source": [
    "#greedy forward propogation\n",
    "\n",
    "subset1 = []\n",
    "rms_list_forward_training = []\n",
    "rms_list_1 = []\n",
    "finalrmserror = findrmserror(training_data, [0], y)+1\n",
    "for j in range(13):\n",
    "    tobadded = -1\n",
    "    for i in range(13): \n",
    "        temp_copy = subset1.copy()\n",
    "        if (i not in temp_copy):\n",
    "            temp_copy.append(i)\n",
    "            temprms = findrmserror(training_data, temp_copy, y)\n",
    "            temp_list = []\n",
    "            temp_list.append(temp_copy)\n",
    "            temp_list.append(temprms)\n",
    "            rms_list_1.append(temp_list)\n",
    "            if(temprms<=finalrmserror):\n",
    "                finalrmserror = temprms\n",
    "                tobeadded = i\n",
    "    if(tobeadded!=-1):\n",
    "        subset1.append(tobeadded)\n",
    "        rms_list_forward_training.append(finalrmserror)"
   ]
  },
  {
   "cell_type": "code",
   "execution_count": 21,
   "metadata": {},
   "outputs": [
    {
     "data": {
      "text/plain": [
       "[2, 6, 8, 7, 12, 11, 5, 3, 0, 9, 10, 4, 1]"
      ]
     },
     "execution_count": 21,
     "metadata": {},
     "output_type": "execute_result"
    }
   ],
   "source": [
    "subset1"
   ]
  },
  {
   "cell_type": "code",
   "execution_count": 22,
   "metadata": {},
   "outputs": [
    {
     "data": {
      "text/plain": [
       "[232143.49885231513,\n",
       " 219709.22987609988,\n",
       " 209930.44933705634,\n",
       " 208217.86902659785,\n",
       " 207094.555988603,\n",
       " 206672.81862741298,\n",
       " 206331.91701474937,\n",
       " 206083.5149918623,\n",
       " 205956.9159562135,\n",
       " 205875.34298514528,\n",
       " 205425.040744833,\n",
       " 205407.1243940093,\n",
       " 205386.17608525965]"
      ]
     },
     "execution_count": 22,
     "metadata": {},
     "output_type": "execute_result"
    }
   ],
   "source": [
    "rms_list_forward_training"
   ]
  },
  {
   "cell_type": "code",
   "execution_count": 13,
   "metadata": {},
   "outputs": [
    {
     "data": {
      "text/plain": [
       "[<matplotlib.lines.Line2D at 0x26ae99e8e08>]"
      ]
     },
     "execution_count": 13,
     "metadata": {},
     "output_type": "execute_result"
    },
    {
     "data": {
      "image/png": "[encoded data removed]",
      "text/plain": [
       "<Figure size 432x288 with 1 Axes>"
      ]
     },
     "metadata": {
      "needs_background": "light"
     },
     "output_type": "display_data"
    }
   ],
   "source": [
    "x = [1,2,3,4,5,6,7,8,9,10, 11, 12, 13]\n",
    "plt.plot(x, rms_list_forward_training)"
   ]
  },
  {
   "cell_type": "code",
   "execution_count": 23,
   "metadata": {},
   "outputs": [
    {
     "data": {
      "text/plain": [
       "[[[0], 302474.12202858564],\n",
       " [[1], 269496.05514510133],\n",
       " [[2], 232143.49885231513],\n",
       " [[3], 320584.9333037],\n",
       " [[4], 307707.93304417946],\n",
       " [[5], 318351.274436827],\n",
       " [[6], 293859.31425738137],\n",
       " [[7], 320855.3615781929],\n",
       " [[8], 240698.70836633164],\n",
       " [[9], 256224.87450607942],\n",
       " [[10], 309317.9030217111],\n",
       " [[11], 259318.44556313608],\n",
       " [[12], 320531.0546926183],\n",
       " [[2, 0], 230749.62253710788],\n",
       " [[2, 1], 231972.34446984058],\n",
       " [[2, 3], 232129.0455026728],\n",
       " [[2, 4], 231585.9571222832],\n",
       " [[2, 5], 230714.58069770737],\n",
       " [[2, 6], 219709.22987609988],\n",
       " [[2, 7], 231578.3915055776],\n",
       " [[2, 8], 222129.04650986163],\n",
       " [[2, 9], 231762.5408425702],\n",
       " [[2, 10], 232060.6734089785],\n",
       " [[2, 11], 229113.40671422557],\n",
       " [[2, 12], 231382.09859723336],\n",
       " [[2, 6, 0], 219034.7078031902],\n",
       " [[2, 6, 1], 219317.7025888165],\n",
       " [[2, 6, 3], 219337.9994666642],\n",
       " [[2, 6, 4], 218713.78259688715],\n",
       " [[2, 6, 5], 219615.52474062555],\n",
       " [[2, 6, 7], 219452.16398860488],\n",
       " [[2, 6, 8], 209930.44933705634],\n",
       " [[2, 6, 9], 218411.09118198074],\n",
       " [[2, 6, 10], 219119.29412373254],\n",
       " [[2, 6, 11], 217621.79412519617],\n",
       " [[2, 6, 12], 218437.775833993],\n",
       " [[2, 6, 8, 0], 209863.97309581027],\n",
       " [[2, 6, 8, 1], 209911.09512160532],\n",
       " [[2, 6, 8, 3], 209753.93089483413],\n",
       " [[2, 6, 8, 4], 209926.36082814532],\n",
       " [[2, 6, 8, 5], 209668.81024646206],\n",
       " [[2, 6, 8, 7], 208217.86902659785],\n",
       " [[2, 6, 8, 9], 209898.96730663758],\n",
       " [[2, 6, 8, 10], 209897.47812495148],\n",
       " [[2, 6, 8, 11], 209704.76279823505],\n",
       " [[2, 6, 8, 12], 208934.06417706006],\n",
       " [[2, 6, 8, 7, 0], 208118.85499686768],\n",
       " [[2, 6, 8, 7, 1], 208206.220056771],\n",
       " [[2, 6, 8, 7, 3], 208015.7396519489],\n",
       " [[2, 6, 8, 7, 4], 208168.26514678056],\n",
       " [[2, 6, 8, 7, 5], 207896.71289635674],\n",
       " [[2, 6, 8, 7, 9], 208081.52663426663],\n",
       " [[2, 6, 8, 7, 10], 208215.85368351528],\n",
       " [[2, 6, 8, 7, 11], 207932.7937058831],\n",
       " [[2, 6, 8, 7, 12], 207094.555988603],\n",
       " [[2, 6, 8, 7, 12, 0], 206960.0278776912],\n",
       " [[2, 6, 8, 7, 12, 1], 207062.56013220057],\n",
       " [[2, 6, 8, 7, 12, 3], 206843.70509587388],\n",
       " [[2, 6, 8, 7, 12, 4], 207069.84580380624],\n",
       " [[2, 6, 8, 7, 12, 5], 206807.79965954513],\n",
       " [[2, 6, 8, 7, 12, 9], 206869.28835441283],\n",
       " [[2, 6, 8, 7, 12, 10], 207071.0014736976],\n",
       " [[2, 6, 8, 7, 12, 11], 206672.81862741298],\n",
       " [[2, 6, 8, 7, 12, 11, 0], 206537.7887563637],\n",
       " [[2, 6, 8, 7, 12, 11, 1], 206649.22803813237],\n",
       " [[2, 6, 8, 7, 12, 11, 3], 206442.920106598],\n",
       " [[2, 6, 8, 7, 12, 11, 4], 206639.70802301817],\n",
       " [[2, 6, 8, 7, 12, 11, 5], 206331.91701474937],\n",
       " [[2, 6, 8, 7, 12, 11, 9], 206546.69860130377],\n",
       " [[2, 6, 8, 7, 12, 11, 10], 206668.90462697655],\n",
       " [[2, 6, 8, 7, 12, 11, 5, 0], 206230.5912221744],\n",
       " [[2, 6, 8, 7, 12, 11, 5, 1], 206305.05442266172],\n",
       " [[2, 6, 8, 7, 12, 11, 5, 3], 206083.5149918623],\n",
       " [[2, 6, 8, 7, 12, 11, 5, 4], 206303.28645617358],\n",
       " [[2, 6, 8, 7, 12, 11, 5, 9], 206229.2952887482],\n",
       " [[2, 6, 8, 7, 12, 11, 5, 10], 206330.59966435825],\n",
       " [[2, 6, 8, 7, 12, 11, 5, 3, 0], 205956.9159562135],\n",
       " [[2, 6, 8, 7, 12, 11, 5, 3, 1], 206056.3168744037],\n",
       " [[2, 6, 8, 7, 12, 11, 5, 3, 4], 206060.3703859737],\n",
       " [[2, 6, 8, 7, 12, 11, 5, 3, 9], 205990.041229419],\n",
       " [[2, 6, 8, 7, 12, 11, 5, 3, 10], 206083.09346034916],\n",
       " [[2, 6, 8, 7, 12, 11, 5, 3, 0, 1], 205945.89676831083],\n",
       " [[2, 6, 8, 7, 12, 11, 5, 3, 0, 4], 205936.12611049542],\n",
       " [[2, 6, 8, 7, 12, 11, 5, 3, 0, 9], 205875.34298514528],\n",
       " [[2, 6, 8, 7, 12, 11, 5, 3, 0, 10], 205956.7512351949],\n",
       " [[2, 6, 8, 7, 12, 11, 5, 3, 0, 9, 1], 205860.2194374205],\n",
       " [[2, 6, 8, 7, 12, 11, 5, 3, 0, 9, 4], 205875.04830168033],\n",
       " [[2, 6, 8, 7, 12, 11, 5, 3, 0, 9, 10], 205425.040744833],\n",
       " [[2, 6, 8, 7, 12, 11, 5, 3, 0, 9, 10, 1], 205416.750967667],\n",
       " [[2, 6, 8, 7, 12, 11, 5, 3, 0, 9, 10, 4], 205407.1243940093],\n",
       " [[2, 6, 8, 7, 12, 11, 5, 3, 0, 9, 10, 4, 1], 205386.17608525965]]"
      ]
     },
     "execution_count": 23,
     "metadata": {},
     "output_type": "execute_result"
    }
   ],
   "source": [
    "rms_list_1"
   ]
  },
  {
   "cell_type": "code",
   "execution_count": 28,
   "metadata": {},
   "outputs": [],
   "source": [
    "#backward feature elimination\n",
    "subset2 = [0,1,2,3,4,5,6,7,8,9,10,11,12]\n",
    "finalrmserror = findrmserror(training_data, subset2, y)\n",
    "rms_list_backward_training = []\n",
    "rms_list_2 = []\n",
    "rms_list_2.append(subset2)\n",
    "rms_list_2.append(finalrmserror)\n",
    "for j in range(13):\n",
    "    toberemoved = -1\n",
    "    for i in range(13):\n",
    "        temp_copy = subset2.copy()\n",
    "        if(i in temp_copy):\n",
    "            temp_copy.remove(i)\n",
    "            temprms = findrmserror(training_data, temp_copy, y)\n",
    "            temp_list = []\n",
    "            temp_list.append(temp_copy)\n",
    "            temp_list.append(temprms)\n",
    "            rms_list_2.append(temp_list)\n",
    "            if(temprms<=finalrmserror):\n",
    "                finalrmserror = temprms\n",
    "                toberemoved = i\n",
    "    if(toberemoved!=-1):\n",
    "        subset2.remove(tobremoved)\n",
    "        rms_list_backward_training.append(finalrmserror)\n",
    "    else:\n",
    "        break"
   ]
  },
  {
   "cell_type": "code",
   "execution_count": 15,
   "metadata": {},
   "outputs": [
    {
     "data": {
      "text/plain": [
       "[0, 1, 2, 3, 4, 5, 6, 7, 8, 9, 10, 11, 12]"
      ]
     },
     "execution_count": 15,
     "metadata": {},
     "output_type": "execute_result"
    }
   ],
   "source": [
    "subset2"
   ]
  },
  {
   "cell_type": "code",
   "execution_count": 29,
   "metadata": {},
   "outputs": [
    {
     "data": {
      "text/plain": [
       "[[0, 1, 2, 3, 4, 5, 6, 7, 8, 9, 10, 11, 12],\n",
       " 205386.1760852597,\n",
       " [[1, 2, 3, 4, 5, 6, 7, 8, 9, 10, 11, 12], 205525.57706796614],\n",
       " [[0, 2, 3, 4, 5, 6, 7, 8, 9, 10, 11, 12], 205407.12439400936],\n",
       " [[0, 1, 3, 4, 5, 6, 7, 8, 9, 10, 11, 12], 205586.13311375462],\n",
       " [[0, 1, 2, 4, 5, 6, 7, 8, 9, 10, 11, 12], 205656.2431171254],\n",
       " [[0, 1, 2, 3, 5, 6, 7, 8, 9, 10, 11, 12], 205416.75096766706],\n",
       " [[0, 1, 2, 3, 4, 6, 7, 8, 9, 10, 11, 12], 205669.51334337526],\n",
       " [[0, 1, 2, 3, 4, 5, 7, 8, 9, 10, 11, 12], 214233.58852880143],\n",
       " [[0, 1, 2, 3, 4, 5, 6, 8, 9, 10, 11, 12], 207316.8310003337],\n",
       " [[0, 1, 2, 3, 4, 5, 6, 7, 9, 10, 11, 12], 212685.131098646],\n",
       " [[0, 1, 2, 3, 4, 5, 6, 7, 8, 10, 11, 12], 205898.14718023088],\n",
       " [[0, 1, 2, 3, 4, 5, 6, 7, 8, 9, 11, 12], 205856.2781337891],\n",
       " [[0, 1, 2, 3, 4, 5, 6, 7, 8, 9, 10, 12], 205686.35427596237],\n",
       " [[0, 1, 2, 3, 4, 5, 6, 7, 8, 9, 10, 11], 206657.11571947273]]"
      ]
     },
     "execution_count": 29,
     "metadata": {},
     "output_type": "execute_result"
    }
   ],
   "source": [
    "rms_list_2"
   ]
  },
  {
   "cell_type": "code",
   "execution_count": 16,
   "metadata": {},
   "outputs": [
    {
     "data": {
      "text/plain": [
       "205386.17608525965"
      ]
     },
     "execution_count": 16,
     "metadata": {},
     "output_type": "execute_result"
    }
   ],
   "source": [
    "training_error_forward = findrmserror(training_data, subset1, y)\n",
    "training_error_forward"
   ]
  },
  {
   "cell_type": "code",
   "execution_count": 17,
   "metadata": {},
   "outputs": [
    {
     "data": {
      "text/plain": [
       "205386.1760852597"
      ]
     },
     "execution_count": 17,
     "metadata": {},
     "output_type": "execute_result"
    }
   ],
   "source": [
    "training_error_backward = findrmserror(training_data, subset2, y)\n",
    "training_error_backward"
   ]
  },
  {
   "cell_type": "code",
   "execution_count": 18,
   "metadata": {},
   "outputs": [
    {
     "data": {
      "text/plain": [
       "294616.3470833846"
      ]
     },
     "execution_count": 18,
     "metadata": {},
     "output_type": "execute_result"
    }
   ],
   "source": [
    "testing_error_forward = findrmstesting(testing_data, subset1, ytest)\n",
    "\n",
    "testing_error_forward"
   ]
  },
  {
   "cell_type": "code",
   "execution_count": 19,
   "metadata": {},
   "outputs": [
    {
     "data": {
      "text/plain": [
       "294616.3470833846"
      ]
     },
     "execution_count": 19,
     "metadata": {},
     "output_type": "execute_result"
    }
   ],
   "source": [
    "testing_error_backward = findrmstesting(testing_data, subset1, ytest)\n",
    "\n",
    "testing_error_backward"
   ]
  }
 ],
 "metadata": {
  "kernelspec": {
   "display_name": "Python 3",
   "language": "python",
   "name": "python3"
  },
  "language_info": {
   "codemirror_mode": {
    "name": "ipython",
    "version": 3
   },
   "file_extension": ".py",
   "mimetype": "text/x-python",
   "name": "python",
   "nbconvert_exporter": "python",
   "pygments_lexer": "ipython3",
   "version": "3.7.6"
  }
 },
 "nbformat": 4,
 "nbformat_minor": 4
}
